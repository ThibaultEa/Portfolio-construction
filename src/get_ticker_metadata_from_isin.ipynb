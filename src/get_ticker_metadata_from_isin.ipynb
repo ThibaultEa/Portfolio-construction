{
 "cells": [
  {
   "cell_type": "code",
   "execution_count": 2,
   "id": "5d1624dc",
   "metadata": {},
   "outputs": [],
   "source": [
    "import yfinance as yf\n",
    "from openbb import obb\n",
    "import pandas as pd\n",
    "import xlwings as xw\n",
    "import numpy as np\n",
    "from collections import defaultdict"
   ]
  },
  {
   "cell_type": "code",
   "execution_count": 3,
   "id": "5a53412f",
   "metadata": {},
   "outputs": [],
   "source": [
    "input_path = r\"input\\Securities List_AMC 2025.xlsx\"\n",
    "output_path_isin_ticker = r\"output\\isin_to_ticker.xlsx\"\n",
    "output_path_metadata = r\"output\\full_metadata.xlsx\""
   ]
  },
  {
   "cell_type": "code",
   "execution_count": 4,
   "id": "bdc6a0f2",
   "metadata": {},
   "outputs": [
    {
     "data": {
      "text/html": [
       "<div>\n",
       "<style scoped>\n",
       "    .dataframe tbody tr th:only-of-type {\n",
       "        vertical-align: middle;\n",
       "    }\n",
       "\n",
       "    .dataframe tbody tr th {\n",
       "        vertical-align: top;\n",
       "    }\n",
       "\n",
       "    .dataframe thead th {\n",
       "        text-align: right;\n",
       "    }\n",
       "</style>\n",
       "<table border=\"1\" class=\"dataframe\">\n",
       "  <thead>\n",
       "    <tr style=\"text-align: right;\">\n",
       "      <th></th>\n",
       "      <th>name</th>\n",
       "      <th>currency</th>\n",
       "      <th>ISIN</th>\n",
       "    </tr>\n",
       "  </thead>\n",
       "  <tbody>\n",
       "    <tr>\n",
       "      <th>1</th>\n",
       "      <td>Accenture PLC</td>\n",
       "      <td>USD</td>\n",
       "      <td>IE00B4BNMY34</td>\n",
       "    </tr>\n",
       "    <tr>\n",
       "      <th>2</th>\n",
       "      <td>Adobe Inc</td>\n",
       "      <td>USD</td>\n",
       "      <td>US00724F1012</td>\n",
       "    </tr>\n",
       "    <tr>\n",
       "      <th>3</th>\n",
       "      <td>Advanced Micro Devices Inc</td>\n",
       "      <td>USD</td>\n",
       "      <td>US0079031078</td>\n",
       "    </tr>\n",
       "    <tr>\n",
       "      <th>4</th>\n",
       "      <td>Akamai Technologies Inc</td>\n",
       "      <td>USD</td>\n",
       "      <td>US00971T1016</td>\n",
       "    </tr>\n",
       "    <tr>\n",
       "      <th>5</th>\n",
       "      <td>Amphenol Corp</td>\n",
       "      <td>USD</td>\n",
       "      <td>US0320951017</td>\n",
       "    </tr>\n",
       "  </tbody>\n",
       "</table>\n",
       "</div>"
      ],
      "text/plain": [
       "                         name currency          ISIN\n",
       "1               Accenture PLC      USD  IE00B4BNMY34\n",
       "2                   Adobe Inc      USD  US00724F1012\n",
       "3  Advanced Micro Devices Inc      USD  US0079031078\n",
       "4     Akamai Technologies Inc      USD  US00971T1016\n",
       "5               Amphenol Corp      USD  US0320951017"
      ]
     },
     "execution_count": 4,
     "metadata": {},
     "output_type": "execute_result"
    }
   ],
   "source": [
    "df_securities_spx = pd.read_excel(input_path,\n",
    "                                    sheet_name=\"SPX\",\n",
    "                                    usecols=\"A, C, D\",\n",
    "                                    names=['name', 'currency', 'ISIN'])\n",
    "df_securities_sxxp = pd.read_excel(input_path,\n",
    "                                    sheet_name=\"SXXP\",\n",
    "                                    usecols=\"A, C, D\",\n",
    "                                    names=['name', 'currency', 'ISIN'])\n",
    "\n",
    "df_securities = pd.concat([df_securities_spx, df_securities_sxxp], axis=0)\n",
    "df_securities.replace(0, pd.NA, inplace=True)\n",
    "df_securities = df_securities.loc[-df_securities.ISIN.isna()]\n",
    "df_securities.head()"
   ]
  },
  {
   "cell_type": "code",
   "execution_count": 5,
   "id": "fabcc35a",
   "metadata": {},
   "outputs": [
    {
     "name": "stdout",
     "output_type": "stream",
     "text": [
      "YF deprecation warning: set proxy via new config function: yf.set_config(proxy=proxy)\n"
     ]
    },
    {
     "data": {
      "text/plain": [
       "'ACN'"
      ]
     },
     "execution_count": 5,
     "metadata": {},
     "output_type": "execute_result"
    }
   ],
   "source": [
    "test_isin = \"IE00B4BNMY34\"\n",
    "yf.set_config()\n",
    "test_data = yf.Ticker(test_isin)\n",
    "test_data.ticker"
   ]
  },
  {
   "cell_type": "code",
   "execution_count": 6,
   "id": "2db98429",
   "metadata": {},
   "outputs": [
    {
     "name": "stdout",
     "output_type": "stream",
     "text": [
      "Invalid ISIN number: US03662Q1058 ANSYS Inc\n",
      "Invalid ISIN number: US48203R1041 Juniper Networks Inc\n",
      "Invalid ISIN number: US2547091080 Discover Financial Services\n",
      "Invalid ISIN number: US92556H2067 Paramount Global\n",
      "Invalid ISIN number: US9314271084 Walgreens Boots Alliance Inc\n",
      "Invalid ISIN number: US42809H1077 Hess Corp\n",
      "Invalid ISIN number: FI0009000202 Kesko Oyj\n",
      "Invalid ISIN number: GB00BY9D0Y18 Direct Line Insurance Group PLC\n",
      "Invalid ISIN number: GB00B1VZ0M25 Hargreaves Lansdown PLC\n",
      "Invalid ISIN number: GB00BDVZYZ77 International Distribution Services PLC\n",
      "Invalid ISIN number: NO0003043309 Kongsberg Gruppen ASA\n",
      "Invalid ISIN number: SE0017161243 Fortnox AB\n",
      "Invalid ISIN number: SE0005127818 Sagax AB\n",
      "Invalid ISIN number: FR0011675362 Neoen SA\n"
     ]
    }
   ],
   "source": [
    "dict_isin_tickers = defaultdict(list)\n",
    "# meta_records = []\n",
    "for name, sec_id in zip(df_securities.name, df_securities.ISIN):\n",
    "    try:\n",
    "        t = yf.Ticker(sec_id)\n",
    "        dict_isin_tickers[\"ISIN\"].append(sec_id)\n",
    "        dict_isin_tickers[\"ticker\"].append(t.ticker)\n",
    "\n",
    "        # data = pd.Series(yf.Ticker(sec_id).fast_info)\n",
    "        # info = t.info  # slower, but includes country/sector/industry\n",
    "        # meta_records.append({\n",
    "        #     \"ticker\": info.ticker,\n",
    "        #     \"country\": info.get(\"country\"),\n",
    "        #     \"sector\": info.get(\"sector\"),\n",
    "        #     \"industry\": info.get(\"industry\"),\n",
    "        #     \"currency\": info.get(\"currency\"),\n",
    "        #     \"marketCap\": info.get(\"marketCap\"),\n",
    "        #     \"beta\": info.get(\"beta\"),\n",
    "        #     \"exchange\": info.get(\"exchange\"),\n",
    "        # })\n",
    "    except ValueError as e:\n",
    "        dict_isin_tickers[\"ISIN\"].append(sec_id)\n",
    "        dict_isin_tickers[\"ticker\"].append(pd.NA)\n",
    "        print(e, name)\n",
    "# metadata = pd.DataFrame(meta_records).set_index(\"ticker\")"
   ]
  },
  {
   "cell_type": "code",
   "execution_count": 7,
   "id": "c983c99c",
   "metadata": {},
   "outputs": [],
   "source": [
    "df_isin_ticker = pd.DataFrame(dict_isin_tickers)\n",
    "# df_isin_ticker.to_excel(output_path_isin_ticker, sheet_name='isin_ticker', index=False)\n"
   ]
  },
  {
   "cell_type": "code",
   "execution_count": 12,
   "id": "984c68e5",
   "metadata": {},
   "outputs": [
    {
     "data": {
      "text/plain": [
       "['US03662Q1058',\n",
       " 'US48203R1041',\n",
       " 'US2547091080',\n",
       " 'US92556H2067',\n",
       " 'US9314271084',\n",
       " 'US42809H1077',\n",
       " 'FI0009000202',\n",
       " 'GB00BY9D0Y18',\n",
       " 'GB00B1VZ0M25',\n",
       " 'GB00BDVZYZ77',\n",
       " 'NO0003043309',\n",
       " 'SE0017161243',\n",
       " 'SE0005127818',\n",
       " 'FR0011675362']"
      ]
     },
     "execution_count": 12,
     "metadata": {},
     "output_type": "execute_result"
    }
   ],
   "source": [
    "isin_issues = df_isin_ticker.loc[df_isin_ticker.ticker.isna(), \"ISIN\"].to_list()\n",
    "isin_issues"
   ]
  },
  {
   "cell_type": "code",
   "execution_count": 9,
   "id": "8c73f44e",
   "metadata": {},
   "outputs": [
    {
     "data": {
      "text/html": [
       "<div>\n",
       "<style scoped>\n",
       "    .dataframe tbody tr th:only-of-type {\n",
       "        vertical-align: middle;\n",
       "    }\n",
       "\n",
       "    .dataframe tbody tr th {\n",
       "        vertical-align: top;\n",
       "    }\n",
       "\n",
       "    .dataframe thead th {\n",
       "        text-align: right;\n",
       "    }\n",
       "</style>\n",
       "<table border=\"1\" class=\"dataframe\">\n",
       "  <thead>\n",
       "    <tr style=\"text-align: right;\">\n",
       "      <th></th>\n",
       "      <th>name</th>\n",
       "      <th>currency</th>\n",
       "      <th>ISIN</th>\n",
       "      <th>ticker</th>\n",
       "    </tr>\n",
       "  </thead>\n",
       "  <tbody>\n",
       "    <tr>\n",
       "      <th>0</th>\n",
       "      <td>Accenture PLC</td>\n",
       "      <td>USD</td>\n",
       "      <td>IE00B4BNMY34</td>\n",
       "      <td>ACN</td>\n",
       "    </tr>\n",
       "    <tr>\n",
       "      <th>1</th>\n",
       "      <td>Adobe Inc</td>\n",
       "      <td>USD</td>\n",
       "      <td>US00724F1012</td>\n",
       "      <td>ADBE</td>\n",
       "    </tr>\n",
       "    <tr>\n",
       "      <th>2</th>\n",
       "      <td>Advanced Micro Devices Inc</td>\n",
       "      <td>USD</td>\n",
       "      <td>US0079031078</td>\n",
       "      <td>AMD</td>\n",
       "    </tr>\n",
       "    <tr>\n",
       "      <th>3</th>\n",
       "      <td>Akamai Technologies Inc</td>\n",
       "      <td>USD</td>\n",
       "      <td>US00971T1016</td>\n",
       "      <td>AKAM</td>\n",
       "    </tr>\n",
       "    <tr>\n",
       "      <th>4</th>\n",
       "      <td>Amphenol Corp</td>\n",
       "      <td>USD</td>\n",
       "      <td>US0320951017</td>\n",
       "      <td>APH</td>\n",
       "    </tr>\n",
       "  </tbody>\n",
       "</table>\n",
       "</div>"
      ],
      "text/plain": [
       "                         name currency          ISIN ticker\n",
       "0               Accenture PLC      USD  IE00B4BNMY34    ACN\n",
       "1                   Adobe Inc      USD  US00724F1012   ADBE\n",
       "2  Advanced Micro Devices Inc      USD  US0079031078    AMD\n",
       "3     Akamai Technologies Inc      USD  US00971T1016   AKAM\n",
       "4               Amphenol Corp      USD  US0320951017    APH"
      ]
     },
     "execution_count": 9,
     "metadata": {},
     "output_type": "execute_result"
    }
   ],
   "source": [
    "df_with_ticker = pd.merge(df_securities, df_isin_ticker, on='ISIN')\n",
    "df_with_ticker.head()"
   ]
  },
  {
   "cell_type": "code",
   "execution_count": 10,
   "id": "5f6d7d72",
   "metadata": {},
   "outputs": [
    {
     "name": "stdout",
     "output_type": "stream",
     "text": [
      "0.0 %\n",
      "1.8365472910927456 %\n",
      "3.6730945821854912 %\n",
      "5.5096418732782375 %\n",
      "7.3461891643709825 %\n",
      "9.182736455463727 %\n",
      "11.019283746556475 %\n",
      "12.85583103764922 %\n",
      "14.692378328741965 %\n",
      "16.528925619834713 %\n",
      "18.365472910927455 %\n",
      "20.2020202020202 %\n",
      "22.03856749311295 %\n",
      "23.875114784205692 %\n",
      "25.71166207529844 %\n",
      "27.548209366391184 %\n",
      "29.38475665748393 %\n",
      "31.22130394857668 %\n",
      "33.057851239669425 %\n",
      "34.89439853076217 %\n",
      "36.73094582185491 %\n",
      "38.56749311294766 %\n",
      "40.4040404040404 %\n",
      "42.240587695133144 %\n",
      "44.0771349862259 %\n",
      "45.91368227731864 %\n",
      "47.750229568411385 %\n",
      "49.586776859504134 %\n",
      "51.42332415059688 %\n",
      "53.25987144168962 %\n",
      "55.09641873278237 %\n"
     ]
    },
    {
     "name": "stderr",
     "output_type": "stream",
     "text": [
      "500 Server Error:  for url: https://query2.finance.yahoo.com/v10/finance/quoteSummary/PUIG.MC?modules=financialData%2CquoteType%2CdefaultKeyStatistics%2CassetProfile%2CsummaryDetail&corsDomain=finance.yahoo.com&formatted=false&symbol=PUIG.MC&crumb=Xlk1BqPOKBY\n"
     ]
    },
    {
     "name": "stdout",
     "output_type": "stream",
     "text": [
      "56.93296602387512 %\n",
      "58.76951331496786 %\n",
      "60.60606060606061 %\n",
      "62.44260789715336 %\n",
      "64.2791551882461 %\n",
      "66.11570247933885 %\n",
      "67.95224977043158 %\n",
      "69.78879706152433 %\n",
      "71.62534435261708 %\n",
      "73.46189164370982 %\n",
      "75.29843893480258 %\n",
      "77.13498622589532 %\n",
      "78.97153351698806 %\n",
      "80.8080808080808 %\n",
      "82.64462809917356 %\n",
      "84.48117539026629 %\n",
      "86.31772268135904 %\n",
      "88.1542699724518 %\n",
      "89.99081726354453 %\n",
      "91.82736455463728 %\n",
      "93.66391184573003 %\n",
      "95.50045913682277 %\n",
      "97.33700642791551 %\n",
      "99.17355371900827 %\n"
     ]
    }
   ],
   "source": [
    "BATCH_SIZE = 20\n",
    "results = []\n",
    "tickers = df_with_ticker.ticker.dropna()\n",
    "for i in range(0, len(tickers), BATCH_SIZE):\n",
    "    batch = tickers[i:i+BATCH_SIZE]\n",
    "    df = obb.equity.profile(batch, provider='yfinance').to_df()\n",
    "    results.append(df)\n",
    "    print(i/len(tickers)*100, '%')"
   ]
  },
  {
   "cell_type": "code",
   "execution_count": null,
   "id": "ce4ca0b0",
   "metadata": {},
   "outputs": [],
   "source": [
    "df_results = pd.concat(results, ignore_index=True)\n",
    "# df_results.to_excel(output_path_metadata)"
   ]
  },
  {
   "cell_type": "code",
   "execution_count": null,
   "id": "f531ee2c",
   "metadata": {},
   "outputs": [],
   "source": []
  }
 ],
 "metadata": {
  "kernelspec": {
   "display_name": "openbb_env",
   "language": "python",
   "name": "python3"
  },
  "language_info": {
   "codemirror_mode": {
    "name": "ipython",
    "version": 3
   },
   "file_extension": ".py",
   "mimetype": "text/x-python",
   "name": "python",
   "nbconvert_exporter": "python",
   "pygments_lexer": "ipython3",
   "version": "3.11.9"
  }
 },
 "nbformat": 4,
 "nbformat_minor": 5
}
